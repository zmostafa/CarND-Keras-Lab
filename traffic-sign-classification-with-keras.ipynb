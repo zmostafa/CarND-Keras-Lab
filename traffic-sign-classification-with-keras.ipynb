{
  "nbformat": 4,
  "nbformat_minor": 0,
  "metadata": {
    "anaconda-cloud": {},
    "kernelspec": {
      "display_name": "Python 3",
      "language": "python",
      "name": "python3"
    },
    "language_info": {
      "codemirror_mode": {
        "name": "ipython",
        "version": 3
      },
      "file_extension": ".py",
      "mimetype": "text/x-python",
      "name": "python",
      "nbconvert_exporter": "python",
      "pygments_lexer": "ipython3",
      "version": "3.5.3"
    },
    "colab": {
      "name": "traffic-sign-classification-with-keras.ipynb",
      "provenance": [],
      "toc_visible": true,
      "include_colab_link": true
    }
  },
  "cells": [
    {
      "cell_type": "markdown",
      "metadata": {
        "id": "view-in-github",
        "colab_type": "text"
      },
      "source": [
        "<a href=\"https://colab.research.google.com/github/zmostafa/CarND-Keras-Lab/blob/master/traffic-sign-classification-with-keras.ipynb\" target=\"_parent\"><img src=\"https://colab.research.google.com/assets/colab-badge.svg\" alt=\"Open In Colab\"/></a>"
      ]
    },
    {
      "cell_type": "markdown",
      "metadata": {
        "id": "9DTMkJQe0vm7",
        "colab_type": "text"
      },
      "source": [
        "# Traffic Sign Classification with Keras\n",
        "\n",
        "Keras exists to make coding deep neural networks simpler. To demonstrate just how easy it is, you’re going to use Keras to build a convolutional neural network in a few dozen lines of code.\n",
        "\n",
        "You’ll be connecting the concepts from the previous lessons to the methods that Keras provides."
      ]
    },
    {
      "cell_type": "markdown",
      "metadata": {
        "id": "zdWHUCF10vm8",
        "colab_type": "text"
      },
      "source": [
        "## Dataset\n",
        "\n",
        "The network you'll build with Keras is similar to the example in Keras’s GitHub repository that builds out a [convolutional neural network for MNIST](https://github.com/fchollet/keras/blob/master/examples/mnist_cnn.py). \n",
        "\n",
        "However, instead of using the [MNIST](http://yann.lecun.com/exdb/mnist/) dataset, you're going to use the [German Traffic Sign Recognition Benchmark](http://benchmark.ini.rub.de/?section=gtsrb&subsection=news) dataset that you've used previously.\n",
        "\n",
        "You can download pickle files with sanitized traffic sign data here:"
      ]
    },
    {
      "cell_type": "code",
      "metadata": {
        "id": "_m3rSP9q0vm9",
        "colab_type": "code",
        "colab": {
          "base_uri": "https://localhost:8080/",
          "height": 85
        },
        "outputId": "a83f297a-d33a-4f29-d79a-62faf2abc624"
      },
      "source": [
        "from urllib.request import urlretrieve\n",
        "from os.path import isfile\n",
        "from tqdm import tqdm\n",
        "\n",
        "class DLProgress(tqdm):\n",
        "    last_block = 0\n",
        "\n",
        "    def hook(self, block_num=1, block_size=1, total_size=None):\n",
        "        self.total = total_size\n",
        "        self.update((block_num - self.last_block) * block_size)\n",
        "        self.last_block = block_num\n",
        "\n",
        "if not isfile('train.p'):\n",
        "    with DLProgress(unit='B', unit_scale=True, miniters=1, desc='Train Dataset') as pbar:\n",
        "        urlretrieve(\n",
        "            'https://s3.amazonaws.com/udacity-sdc/datasets/german_traffic_sign_benchmark/train.p',\n",
        "            'train.p',\n",
        "            pbar.hook)\n",
        "\n",
        "if not isfile('test.p'):\n",
        "    with DLProgress(unit='B', unit_scale=True, miniters=1, desc='Test Dataset') as pbar:\n",
        "        urlretrieve(\n",
        "            'https://s3.amazonaws.com/udacity-sdc/datasets/german_traffic_sign_benchmark/test.p',\n",
        "            'test.p',\n",
        "            pbar.hook)\n",
        "\n",
        "print('\\nTraining and Test data downloaded.')"
      ],
      "execution_count": 1,
      "outputs": [
        {
          "output_type": "stream",
          "text": [
            "Train Dataset: 120MB [00:03, 33.4MB/s]                           \n",
            "Test Dataset: 38.8MB [00:01, 23.8MB/s]                           "
          ],
          "name": "stderr"
        },
        {
          "output_type": "stream",
          "text": [
            "\n",
            "Training and Test data downloaded.\n"
          ],
          "name": "stdout"
        },
        {
          "output_type": "stream",
          "text": [
            "\n"
          ],
          "name": "stderr"
        }
      ]
    },
    {
      "cell_type": "markdown",
      "metadata": {
        "id": "LBqDSrU60vnD",
        "colab_type": "text"
      },
      "source": [
        "## Overview\n",
        "\n",
        "Here are the steps you'll take to build the network:\n",
        "\n",
        "1. Load the training data.\n",
        "2. Preprocess the data.\n",
        "3. Build a feedforward neural network to classify traffic signs.\n",
        "4. Build a convolutional neural network to classify traffic signs.\n",
        "5. Evaluate the final neural network on testing data.\n",
        "\n",
        "Keep an eye on the network’s accuracy over time. Once the accuracy reaches the 98% range, you can be confident that you’ve built and trained an effective model."
      ]
    },
    {
      "cell_type": "code",
      "metadata": {
        "id": "fyG0mYiy0vnD",
        "colab_type": "code",
        "colab": {
          "base_uri": "https://localhost:8080/",
          "height": 34
        },
        "outputId": "bed53bbc-1502-483d-8641-3705c82e0b6b"
      },
      "source": [
        "import pickle\n",
        "import numpy as np\n",
        "import math\n",
        "\n",
        "# Fix error with TF and Keras\n",
        "import tensorflow as tf\n",
        "tf.python.control_flow_ops = tf\n",
        "\n",
        "print('Modules loaded.')"
      ],
      "execution_count": 2,
      "outputs": [
        {
          "output_type": "stream",
          "text": [
            "Modules loaded.\n"
          ],
          "name": "stdout"
        }
      ]
    },
    {
      "cell_type": "markdown",
      "metadata": {
        "id": "ZTAyM8vI0vnH",
        "colab_type": "text"
      },
      "source": [
        "## Load the Data\n",
        "\n",
        "Start by importing the data from the pickle file."
      ]
    },
    {
      "cell_type": "code",
      "metadata": {
        "id": "Kz9PsH2H0vnH",
        "colab_type": "code",
        "colab": {}
      },
      "source": [
        "with open('train.p', 'rb') as f:\n",
        "    data = pickle.load(f)\n",
        "\n",
        "# TODO: Load the feature data to the variable X_train\n",
        "    X_train = data['features']\n",
        "# TODO: Load the label data to the variable y_train\n",
        "    y_train = data['labels']"
      ],
      "execution_count": 0,
      "outputs": []
    },
    {
      "cell_type": "code",
      "metadata": {
        "id": "genCl4a30vnM",
        "colab_type": "code",
        "colab": {
          "base_uri": "https://localhost:8080/",
          "height": 34
        },
        "outputId": "ee20023b-c86d-4543-add1-0d18815afb2b"
      },
      "source": [
        "# STOP: Do not change the tests below. Your implementation should pass these tests. \n",
        "assert np.array_equal(X_train, data['features']), 'X_train not set to data[\\'features\\'].'\n",
        "assert np.array_equal(y_train, data['labels']), 'y_train not set to data[\\'labels\\'].'\n",
        "print('Tests passed.')"
      ],
      "execution_count": 4,
      "outputs": [
        {
          "output_type": "stream",
          "text": [
            "Tests passed.\n"
          ],
          "name": "stdout"
        }
      ]
    },
    {
      "cell_type": "markdown",
      "metadata": {
        "id": "7LumOFhM0vnS",
        "colab_type": "text"
      },
      "source": [
        "## Preprocess the Data\n",
        "\n",
        "1. Shuffle the data\n",
        "2. Normalize the features using Min-Max scaling between -0.5 and 0.5\n",
        "3. One-Hot Encode the labels\n",
        "\n",
        "### Shuffle the data\n",
        "Hint: You can use the [scikit-learn shuffle](http://scikit-learn.org/stable/modules/generated/sklearn.utils.shuffle.html) function to shuffle the data."
      ]
    },
    {
      "cell_type": "code",
      "metadata": {
        "id": "BsF4qInc0vnT",
        "colab_type": "code",
        "colab": {}
      },
      "source": [
        "from sklearn.utils import shuffle\n",
        "# TODO: Shuffle the data\n",
        "X_train , y_train = shuffle(X_train,y_train)"
      ],
      "execution_count": 0,
      "outputs": []
    },
    {
      "cell_type": "code",
      "metadata": {
        "id": "7INzwmU-0vnY",
        "colab_type": "code",
        "colab": {
          "base_uri": "https://localhost:8080/",
          "height": 34
        },
        "outputId": "3c452b4f-ffd8-46ec-be98-cd6427f6ce41"
      },
      "source": [
        "# STOP: Do not change the tests below. Your implementation should pass these tests. \n",
        "assert X_train.shape == data['features'].shape, 'X_train has changed shape. The shape shouldn\\'t change when shuffling.'\n",
        "assert y_train.shape == data['labels'].shape, 'y_train has changed shape. The shape shouldn\\'t change when shuffling.'\n",
        "assert not np.array_equal(X_train, data['features']), 'X_train not shuffled.'\n",
        "assert not np.array_equal(y_train, data['labels']), 'y_train not shuffled.'\n",
        "print('Tests passed.')"
      ],
      "execution_count": 6,
      "outputs": [
        {
          "output_type": "stream",
          "text": [
            "Tests passed.\n"
          ],
          "name": "stdout"
        }
      ]
    },
    {
      "cell_type": "markdown",
      "metadata": {
        "id": "JV3lDCoe0vnc",
        "colab_type": "text"
      },
      "source": [
        "### Normalize the features\n",
        "Hint: You solved this in [TensorFlow lab](https://github.com/udacity/CarND-TensorFlow-Lab/blob/master/lab.ipynb) Problem 1."
      ]
    },
    {
      "cell_type": "code",
      "metadata": {
        "id": "Qhfwtvw60vnc",
        "colab_type": "code",
        "colab": {}
      },
      "source": [
        "# TODO: Normalize the data features to the variable X_normalized\n",
        "def normalize(img):\n",
        "  a = -0.5\n",
        "  b = 0.5\n",
        "  return (a + (((img - 0) * (b - a)) / (255  - 0)))\n",
        "  # return (img - 128.) / 128.\n",
        "\n",
        "X_normalized = np.array([normalize(img) for img in X_train])"
      ],
      "execution_count": 0,
      "outputs": []
    },
    {
      "cell_type": "code",
      "metadata": {
        "id": "3dkiL7Mz0vnf",
        "colab_type": "code",
        "colab": {
          "base_uri": "https://localhost:8080/",
          "height": 34
        },
        "outputId": "02b31a55-e919-4faa-c7bb-3edff310273b"
      },
      "source": [
        "# STOP: Do not change the tests below. Your implementation should pass these tests. \n",
        "assert math.isclose(np.min(X_normalized), -0.5, abs_tol=1e-5) and math.isclose(np.max(X_normalized), 0.5, abs_tol=1e-5), 'The range of the training data is: {} to {}.  It must be -0.5 to 0.5'.format(np.min(X_normalized), np.max(X_normalized))\n",
        "print('Tests passed.')"
      ],
      "execution_count": 8,
      "outputs": [
        {
          "output_type": "stream",
          "text": [
            "Tests passed.\n"
          ],
          "name": "stdout"
        }
      ]
    },
    {
      "cell_type": "markdown",
      "metadata": {
        "id": "TWp4Seub0vni",
        "colab_type": "text"
      },
      "source": [
        "### One-Hot Encode the labels\n",
        "Hint: You can use the [scikit-learn LabelBinarizer](http://scikit-learn.org/stable/modules/generated/sklearn.preprocessing.LabelBinarizer.html) function to one-hot encode the labels."
      ]
    },
    {
      "cell_type": "code",
      "metadata": {
        "id": "lLGGctsK0vnj",
        "colab_type": "code",
        "colab": {}
      },
      "source": [
        "# TODO: One Hot encode the labels to the variable y_one_hot\n",
        "from sklearn.preprocessing import LabelBinarizer\n",
        "label_binarizer = LabelBinarizer()\n",
        "y_one_hot = label_binarizer.fit_transform(y_train)"
      ],
      "execution_count": 0,
      "outputs": []
    },
    {
      "cell_type": "code",
      "metadata": {
        "id": "0gn8s19G0vnl",
        "colab_type": "code",
        "colab": {
          "base_uri": "https://localhost:8080/",
          "height": 34
        },
        "outputId": "dc9912ca-b687-4e52-db95-bf167cc35941"
      },
      "source": [
        "# STOP: Do not change the tests below. Your implementation should pass these tests. \n",
        "import collections\n",
        "\n",
        "assert y_one_hot.shape == (39209, 43), 'y_one_hot is not the correct shape.  It\\'s {}, it should be (39209, 43)'.format(y_one_hot.shape)\n",
        "assert next((False for y in y_one_hot if collections.Counter(y) != {0: 42, 1: 1}), True), 'y_one_hot not one-hot encoded.'\n",
        "print('Tests passed.')"
      ],
      "execution_count": 10,
      "outputs": [
        {
          "output_type": "stream",
          "text": [
            "Tests passed.\n"
          ],
          "name": "stdout"
        }
      ]
    },
    {
      "cell_type": "markdown",
      "metadata": {
        "id": "MOSFqHTU0vno",
        "colab_type": "text"
      },
      "source": [
        "## Keras Sequential Model\n",
        "```python\n",
        "from keras.models import Sequential\n",
        "\n",
        "# Create the Sequential model\n",
        "model = Sequential()\n",
        "```\n",
        "The `keras.models.Sequential` class is a wrapper for the neural network model. Just like many of the class models in scikit-learn, it provides common functions like `fit()`, `evaluate()`, and `compile()`.  We'll cover these functions as we get to them.  Let's start looking at the layers of the model.\n",
        "\n",
        "## Keras Layer\n",
        "A Keras layer is just like a neural network layer.  It can be fully connected, max pool, activation, etc.  You can add a layer to the model using the model's `add()` function.  For example, a simple model would look like this:\n",
        "```python\n",
        "from keras.models import Sequential\n",
        "from keras.layers.core import Dense, Activation, Flatten\n",
        "\n",
        "# Create the Sequential model\n",
        "model = Sequential()\n",
        "\n",
        "# 1st Layer - Add a flatten layer\n",
        "model.add(Flatten(input_shape=(32, 32, 3)))\n",
        "\n",
        "# 2nd Layer - Add a fully connected layer\n",
        "model.add(Dense(100))\n",
        "\n",
        "# 3rd Layer - Add a ReLU activation layer\n",
        "model.add(Activation('relu'))\n",
        "\n",
        "# 4th Layer - Add a fully connected layer\n",
        "model.add(Dense(60))\n",
        "\n",
        "# 5th Layer - Add a ReLU activation layer\n",
        "model.add(Activation('relu'))\n",
        "```\n",
        "Keras will automatically infer the shape of all layers after the first layer.  This means you only have to set the input dimensions for the first layer.\n",
        "\n",
        "The first layer from above, `model.add(Flatten(input_shape=(32, 32, 3)))`, sets the input dimension to (32, 32, 3) and output dimension to (3072=32\\*32\\*3).  The second layer takes in the output of the first layer and sets the output dimenions to (100).  This chain of passing output to the next layer continues until the last layer, which is the output of the model."
      ]
    },
    {
      "cell_type": "markdown",
      "metadata": {
        "id": "aIvcAKiq0vnp",
        "colab_type": "text"
      },
      "source": [
        "## Build a Multi-Layer Feedforward Network\n",
        "\n",
        "Build a multi-layer feedforward neural network to classify the traffic sign images.\n",
        "\n",
        "1. Set the first layer to a `Flatten` layer with the `input_shape` set to (32, 32, 3)\n",
        "2. Set the second layer to `Dense` layer width to 128 output. \n",
        "3. Use a ReLU activation function after the second layer.\n",
        "4. Set the output layer width to 43, since there are 43 classes in the dataset.\n",
        "5. Use a softmax activation function after the output layer.\n",
        "\n",
        "To get started, review the Keras documentation about [models](https://keras.io/models/sequential/) and [layers](https://keras.io/layers/core/).\n",
        "\n",
        "The Keras example of a [Multi-Layer Perceptron](https://github.com/fchollet/keras/blob/master/examples/mnist_mlp.py) network is similar to what you need to do here. Use that as a guide, but keep in mind that there are a number of differences."
      ]
    },
    {
      "cell_type": "code",
      "metadata": {
        "id": "wOov5ZoC0vnp",
        "colab_type": "code",
        "colab": {
          "base_uri": "https://localhost:8080/",
          "height": 34
        },
        "outputId": "d4427c3c-31e5-4198-9b40-cef8a4f76da5"
      },
      "source": [
        "from keras.models import Sequential\n",
        "from keras.layers.core import Dense, Flatten , Activation\n",
        "model = Sequential()\n",
        "# TODO: Build a Multi-layer feedforward neural network with Keras here.\n",
        "# 1st Layer - Add a flatten layer\n",
        "model.add(Flatten(input_shape=(32,32,3)))\n",
        "\n",
        "# 2nd Layer - Add a fully connected layer with output = 128\n",
        "model.add(Dense(128))\n",
        "\n",
        "# 3rd Layer - Add a ReLU activation layer\n",
        "model.add(Activation('relu'))\n",
        "\n",
        "# 4th Layer - Add a fully connected layer with output = 43\n",
        "model.add(Dense(43))\n",
        "\n",
        "# 5th Layer - Add a softmax Activiation layer\n",
        "model.add(Activation('softmax'))"
      ],
      "execution_count": 11,
      "outputs": [
        {
          "output_type": "stream",
          "text": [
            "Using TensorFlow backend.\n"
          ],
          "name": "stderr"
        }
      ]
    },
    {
      "cell_type": "code",
      "metadata": {
        "id": "Hs503Kt10vnu",
        "colab_type": "code",
        "colab": {
          "base_uri": "https://localhost:8080/",
          "height": 34
        },
        "outputId": "8106854c-9e72-49e3-ca5e-dfad4ef12b2a"
      },
      "source": [
        "# STOP: Do not change the tests below. Your implementation should pass these tests.\n",
        "from keras.layers.core import Dense, Activation, Flatten\n",
        "from keras.activations import relu, softmax\n",
        "\n",
        "def check_layers(layers, true_layers):\n",
        "    assert len(true_layers) != 0, 'No layers found'\n",
        "    for layer_i in range(len(layers)):\n",
        "        assert isinstance(true_layers[layer_i], layers[layer_i]), 'Layer {} is not a {} layer'.format(layer_i+1, layers[layer_i].__name__)\n",
        "    assert len(true_layers) == len(layers), '{} layers found, should be {} layers'.format(len(true_layers), len(layers))\n",
        "\n",
        "check_layers([Flatten, Dense, Activation, Dense, Activation], model.layers)\n",
        "\n",
        "assert model.layers[0].input_shape == (None, 32, 32, 3), 'First layer input shape is wrong, it should be (32, 32, 3)'\n",
        "assert model.layers[1].output_shape == (None, 128), 'Second layer output is wrong, it should be (128)'\n",
        "assert model.layers[2].activation == relu, 'Third layer not a relu activation layer'\n",
        "assert model.layers[3].output_shape == (None, 43), 'Fourth layer output is wrong, it should be (43)'\n",
        "assert model.layers[4].activation == softmax, 'Fifth layer not a softmax activation layer'\n",
        "print('Tests passed.')"
      ],
      "execution_count": 12,
      "outputs": [
        {
          "output_type": "stream",
          "text": [
            "Tests passed.\n"
          ],
          "name": "stdout"
        }
      ]
    },
    {
      "cell_type": "markdown",
      "metadata": {
        "id": "ns3zWRqB0vnx",
        "colab_type": "text"
      },
      "source": [
        "## Training a Sequential Model\n",
        "You built a multi-layer neural network in Keras, now let's look at training a neural network.\n",
        "```python\n",
        "from keras.models import Sequential\n",
        "from keras.layers.core import Dense, Activation\n",
        "\n",
        "model = Sequential()\n",
        "...\n",
        "\n",
        "# Configures the learning process and metrics\n",
        "model.compile('sgd', 'mean_squared_error', ['accuracy'])\n",
        "\n",
        "# Train the model\n",
        "# History is a record of training loss and metrics\n",
        "history = model.fit(X_train_data, Y_train_data, batch_size=128, epochs=2, validation_split=0.2, verbose=2)\n",
        "\n",
        "# Calculate test score\n",
        "test_score = model.evaluate(X_test_data, Y_test_data)\n",
        "```\n",
        "The code above configures, trains, and tests the model.  The line `model.compile('sgd', 'mean_squared_error', ['accuracy'])` configures the model's optimizer to `'sgd'`(stochastic gradient descent), the loss to `'mean_squared_error'`, and the metric to `'accuracy'`.  \n",
        "\n",
        "You can find more optimizers [here](https://keras.io/optimizers/), loss functions [here](https://keras.io/objectives/#available-objectives), and more metrics [here](https://keras.io/metrics/#available-metrics).\n",
        "\n",
        "To train the model, use the `fit()` function as shown in `model.fit(X_train_data, Y_train_data, batch_size=128, epochs=2, validation_split=0.2, verbose=2)`.  The `validation_split` parameter will split a percentage of the training dataset to be used to validate the model.  Typically you won't have to change the `verbose` parameter but in Jupyter notebooks the update animation can crash the notebook so we set `verbose=2`, this limits the animation to only update after an epoch is complete. The model can be further tested with the test dataset using the `evaluation()` function as shown in the last line."
      ]
    },
    {
      "cell_type": "markdown",
      "metadata": {
        "id": "-QoepHvd0vny",
        "colab_type": "text"
      },
      "source": [
        "## Train the Network\n",
        "\n",
        "1. Compile the network using adam optimizer and categorical_crossentropy loss function.\n",
        "2. Train the network for ten epochs and validate with 20% of the training data."
      ]
    },
    {
      "cell_type": "code",
      "metadata": {
        "id": "VFq1DOF-0vnz",
        "colab_type": "code",
        "colab": {
          "base_uri": "https://localhost:8080/",
          "height": 374
        },
        "outputId": "c6f0dc73-1a35-49cf-d2ff-b9d9a64185f8"
      },
      "source": [
        "# TODO: Compile and train the model here.\n",
        "model.compile('adam','categorical_crossentropy',['acc'])\n",
        "history = model.fit(X_normalized, y_one_hot, epochs=10, validation_split=0.2, verbose=2)\n",
        " "
      ],
      "execution_count": 13,
      "outputs": [
        {
          "output_type": "stream",
          "text": [
            "Train on 31367 samples, validate on 7842 samples\n",
            "Epoch 1/10\n",
            " - 7s - loss: 1.4919 - acc: 0.5981 - val_loss: 0.9241 - val_acc: 0.7353\n",
            "Epoch 2/10\n",
            " - 7s - loss: 0.6711 - acc: 0.8114 - val_loss: 0.5323 - val_acc: 0.8490\n",
            "Epoch 3/10\n",
            " - 7s - loss: 0.4992 - acc: 0.8581 - val_loss: 0.5238 - val_acc: 0.8521\n",
            "Epoch 4/10\n",
            " - 7s - loss: 0.4264 - acc: 0.8771 - val_loss: 0.4340 - val_acc: 0.8791\n",
            "Epoch 5/10\n",
            " - 7s - loss: 0.3579 - acc: 0.8968 - val_loss: 0.5487 - val_acc: 0.8417\n",
            "Epoch 6/10\n",
            " - 7s - loss: 0.3278 - acc: 0.9047 - val_loss: 0.2918 - val_acc: 0.9193\n",
            "Epoch 7/10\n",
            " - 7s - loss: 0.3053 - acc: 0.9097 - val_loss: 0.3221 - val_acc: 0.9061\n",
            "Epoch 8/10\n",
            " - 7s - loss: 0.2749 - acc: 0.9199 - val_loss: 0.3310 - val_acc: 0.9077\n",
            "Epoch 9/10\n",
            " - 7s - loss: 0.2559 - acc: 0.9262 - val_loss: 0.2662 - val_acc: 0.9251\n",
            "Epoch 10/10\n",
            " - 7s - loss: 0.2431 - acc: 0.9300 - val_loss: 0.5148 - val_acc: 0.8573\n"
          ],
          "name": "stdout"
        }
      ]
    },
    {
      "cell_type": "code",
      "metadata": {
        "id": "tMLJtl2l0vn1",
        "colab_type": "code",
        "colab": {
          "base_uri": "https://localhost:8080/",
          "height": 34
        },
        "outputId": "9ab5ec2c-3846-4a22-ce44-5be1d9653291"
      },
      "source": [
        "# STOP: Do not change the tests below. Your implementation should pass these tests.\n",
        "from keras.optimizers import Adam\n",
        "\n",
        "assert model.loss == 'categorical_crossentropy', 'Not using categorical_crossentropy loss function'\n",
        "assert isinstance(model.optimizer, Adam), 'Not using adam optimizer'\n",
        "assert len(history.history['acc']) == 10, 'You\\'re using {} epochs when you need to use 10 epochs.'.format(len(history.history['acc']))\n",
        "\n",
        "assert history.history['acc'][-1] > 0.92, 'The training accuracy was: %.3f. It shoud be greater than 0.92' % history.history['acc'][-1]\n",
        "assert history.history['val_acc'][-1] > 0.85, 'The validation accuracy is: %.3f. It shoud be greater than 0.85' % history.history['val_acc'][-1]\n",
        "print('Tests passed.')"
      ],
      "execution_count": 14,
      "outputs": [
        {
          "output_type": "stream",
          "text": [
            "Tests passed.\n"
          ],
          "name": "stdout"
        }
      ]
    },
    {
      "cell_type": "markdown",
      "metadata": {
        "id": "YnCv5itr0vn4",
        "colab_type": "text"
      },
      "source": [
        "## Convolutions\n",
        "1. Re-construct the previous network\n",
        "2. Add a [convolutional layer](https://keras.io/layers/convolutional/#convolution2d) with 32 filters, a 3x3 kernel, and valid padding before the flatten layer.\n",
        "3. Add a ReLU activation after the convolutional layer.\n",
        "\n",
        "Hint 1: The Keras example of a [convolutional neural network](https://github.com/fchollet/keras/blob/master/examples/mnist_cnn.py) for MNIST would be a good example to review."
      ]
    },
    {
      "cell_type": "code",
      "metadata": {
        "id": "tjrd-AuB0vn5",
        "colab_type": "code",
        "colab": {}
      },
      "source": [
        "# TODO: Re-construct the network and add a convolutional layer before the flatten layer.\n",
        "from keras.models import Sequential\n",
        "from keras.layers.core import Dense, Flatten , Activation\n",
        "from keras.layers.convolutional import Conv2D, MaxPooling2D\n",
        "model = Sequential()\n",
        "# TODO: Build a Multi-layer feedforward neural network with Keras here.\n",
        "# 1st Layer - Add a flatten layer\n",
        "model.add(Conv2D(32,(3,3),padding='valid',input_shape=(32,32,3)))\n",
        "model.add(Activation('relu'))\n",
        "model.add(Flatten())\n",
        "\n",
        "# 2nd Layer - Add a fully connected layer with output = 128\n",
        "model.add(Dense(128))\n",
        "\n",
        "# 3rd Layer - Add a ReLU activation layer\n",
        "model.add(Activation('relu'))\n",
        "\n",
        "# 4th Layer - Add a fully connected layer with output = 43\n",
        "model.add(Dense(43))\n",
        "\n",
        "# 5th Layer - Add a softmax Activiation layer\n",
        "model.add(Activation('softmax'))"
      ],
      "execution_count": 0,
      "outputs": []
    },
    {
      "cell_type": "code",
      "metadata": {
        "id": "JGvb3vAy0vn8",
        "colab_type": "code",
        "colab": {
          "base_uri": "https://localhost:8080/",
          "height": 119
        },
        "outputId": "f6586b36-36b0-4275-e9f9-78bbb7c5fe48"
      },
      "source": [
        "# STOP: Do not change the tests below. Your implementation should pass these tests.\n",
        "from keras.layers.core import Dense, Activation, Flatten\n",
        "from keras.layers.convolutional import Conv2D\n",
        "\n",
        "check_layers([Conv2D, Activation, Flatten, Dense, Activation, Dense, Activation], model.layers)\n",
        "\n",
        "assert model.layers[0].input_shape == (None, 32, 32, 3), 'First layer input shape is wrong, it should be (32, 32, 3)'\n",
        "assert model.layers[0].filters == 32, 'Wrong number of filters, it should be 32'\n",
        "assert model.layers[0].kernel_size[0] == model.layers[0].kernel_size[1] == 3, 'Kernel size is wrong, it should be a 3x3'\n",
        "assert model.layers[0].padding == 'valid', 'Wrong padding, it should be valid'\n",
        "\n",
        "model.compile('adam', 'categorical_crossentropy', ['accuracy'])\n",
        "history = model.fit(X_normalized, y_one_hot, batch_size=128, epochs=2, validation_split=0.2, verbose=2)\n",
        "assert(history.history['val_accuracy'][-1] > 0.91), \"The validation accuracy is: %.3f.  It should be greater than 0.91\" % history.history['val_accuracyc'][-1]\n",
        "print('Tests passed.')"
      ],
      "execution_count": 23,
      "outputs": [
        {
          "output_type": "stream",
          "text": [
            "Train on 31367 samples, validate on 7842 samples\n",
            "Epoch 1/2\n",
            " - 36s - loss: 0.0807 - accuracy: 0.9804 - val_loss: 0.1569 - val_accuracy: 0.9587\n",
            "Epoch 2/2\n",
            " - 39s - loss: 0.0602 - accuracy: 0.9844 - val_loss: 0.1392 - val_accuracy: 0.9620\n",
            "Tests passed.\n"
          ],
          "name": "stdout"
        }
      ]
    },
    {
      "cell_type": "markdown",
      "metadata": {
        "id": "SLC_d0440vn-",
        "colab_type": "text"
      },
      "source": [
        "## Pooling\n",
        "1. Re-construct the network\n",
        "2. Add a 2x2 [max pooling layer](https://keras.io/layers/pooling/#maxpooling2d) immediately following your convolutional layer."
      ]
    },
    {
      "cell_type": "code",
      "metadata": {
        "id": "TvjmYPPU0vn_",
        "colab_type": "code",
        "colab": {}
      },
      "source": [
        "# TODO: Re-construct the network and add a pooling layer after the convolutional layer.\n",
        "from keras.models import Sequential\n",
        "from keras.layers.core import Dense, Flatten , Activation\n",
        "from keras.layers.convolutional import Conv2D, MaxPooling2D\n",
        "model = Sequential()\n",
        "# TODO: Build a Multi-layer feedforward neural network with Keras here.\n",
        "# 1st Layer - Add a Conv with 32 filters and input 32x32x3\n",
        "model.add(Conv2D(32,(3,3),padding='valid',input_shape=(32,32,3)))\n",
        "\n",
        "# 2nd Layer - Add a MaxPooling layer with 2x2 kernel size\n",
        "model.add(MaxPooling2D((2,2)))\n",
        "\n",
        "# 3rd Layer - Add a activation layer\n",
        "model.add(Activation('relu'))\n",
        "\n",
        "# 4th Layer - Flatten output from previous layer\n",
        "model.add(Flatten())\n",
        "\n",
        "# 5th Layer - Add a fully connected layer with output = 128\n",
        "model.add(Dense(128))\n",
        "\n",
        "# 6th Layer - Add a ReLU activation layer\n",
        "model.add(Activation('relu'))\n",
        "\n",
        "# 7th Layer - Add a fully connected layer with output = 43\n",
        "model.add(Dense(43))\n",
        "\n",
        "# 8th Layer - Add a softmax Activiation layer\n",
        "model.add(Activation('softmax'))"
      ],
      "execution_count": 0,
      "outputs": []
    },
    {
      "cell_type": "code",
      "metadata": {
        "id": "2AB4n_rX0voD",
        "colab_type": "code",
        "colab": {
          "base_uri": "https://localhost:8080/",
          "height": 119
        },
        "outputId": "43722029-61fc-4ee4-a17a-8903b7de1d2c"
      },
      "source": [
        "# STOP: Do not change the tests below. Your implementation should pass these tests.\n",
        "from keras.layers.core import Dense, Activation, Flatten\n",
        "from keras.layers.convolutional import Conv2D\n",
        "from keras.layers.pooling import MaxPooling2D\n",
        "\n",
        "check_layers([Conv2D, MaxPooling2D, Activation, Flatten, Dense, Activation, Dense, Activation], model.layers)\n",
        "assert model.layers[1].pool_size == (2, 2), 'Second layer must be a max pool layer with pool size of 2x2'\n",
        "\n",
        "model.compile('adam', 'categorical_crossentropy', ['accuracy'])\n",
        "history = model.fit(X_normalized, y_one_hot, batch_size=128, epochs=2, validation_split=0.2, verbose=2)\n",
        "assert(history.history['val_accuracy'][-1] > 0.91), \"The validation accuracy is: %.3f.  It should be greater than 0.91\" % history.history['val_accuracy'][-1]\n",
        "print('Tests passed.')"
      ],
      "execution_count": 28,
      "outputs": [
        {
          "output_type": "stream",
          "text": [
            "Train on 31367 samples, validate on 7842 samples\n",
            "Epoch 1/2\n",
            " - 21s - loss: 0.2519 - accuracy: 0.9407 - val_loss: 0.2490 - val_accuracy: 0.9384\n",
            "Epoch 2/2\n",
            " - 21s - loss: 0.1579 - accuracy: 0.9633 - val_loss: 0.1668 - val_accuracy: 0.9625\n",
            "Tests passed.\n"
          ],
          "name": "stdout"
        }
      ]
    },
    {
      "cell_type": "markdown",
      "metadata": {
        "id": "H1xm_s6F0voF",
        "colab_type": "text"
      },
      "source": [
        "## Dropout\n",
        "1. Re-construct the network\n",
        "2. Add a [dropout](https://keras.io/layers/core/#dropout) layer after the pooling layer. Set the dropout rate to 50%."
      ]
    },
    {
      "cell_type": "code",
      "metadata": {
        "id": "TYuvr82X0voF",
        "colab_type": "code",
        "colab": {}
      },
      "source": [
        "# TODO: Re-construct the network and add dropout after the pooling layer.\n",
        "from keras.models import Sequential\n",
        "from keras.layers.core import Dense, Flatten , Activation, Dropout\n",
        "from keras.layers.convolutional import Conv2D, MaxPooling2D\n",
        "model = Sequential()\n",
        "# TODO: Build a Multi-layer feedforward neural network with Keras here.\n",
        "# 1st Layer - Add a Conv with 32 filters and input 32x32x3\n",
        "model.add(Conv2D(32,(3,3),padding='valid',input_shape=(32,32,3)))\n",
        "\n",
        "# 2nd Layer - Add a MaxPooling layer with 2x2 kernel size\n",
        "model.add(MaxPooling2D((2,2)))\n",
        "\n",
        "# 3rd Layer - Add a Dropout\n",
        "model.add(Dropout(0.5))\n",
        "\n",
        "# 4th Layer - Add a activation layer\n",
        "model.add(Activation('relu'))\n",
        "\n",
        "# 5th Layer - Flatten output from previous layer\n",
        "model.add(Flatten())\n",
        "\n",
        "# 6th Layer - Add a fully connected layer with output = 128\n",
        "model.add(Dense(128))\n",
        "\n",
        "# 7th Layer - Add a ReLU activation layer\n",
        "model.add(Activation('relu'))\n",
        "\n",
        "# 8th Layer - Add a fully connected layer with output = 43\n",
        "model.add(Dense(43))\n",
        "\n",
        "# 9th Layer - Add a softmax Activiation layer\n",
        "model.add(Activation('softmax'))"
      ],
      "execution_count": 0,
      "outputs": []
    },
    {
      "cell_type": "code",
      "metadata": {
        "id": "USPavJoc0voH",
        "colab_type": "code",
        "colab": {
          "base_uri": "https://localhost:8080/",
          "height": 119
        },
        "outputId": "68d4de0e-c4df-44bc-f17e-6ba6639533a3"
      },
      "source": [
        "# STOP: Do not change the tests below. Your implementation should pass these tests.\n",
        "from keras.layers.core import Dense, Activation, Flatten, Dropout\n",
        "from keras.layers.convolutional import Conv2D\n",
        "from keras.layers.pooling import MaxPooling2D\n",
        "\n",
        "check_layers([Conv2D, MaxPooling2D, Dropout, Activation, Flatten, Dense, Activation, Dense, Activation], model.layers)\n",
        "assert model.layers[2].rate == 0.5, 'Third layer should be a Dropout of 50%'\n",
        "\n",
        "model.compile('adam', 'categorical_crossentropy', ['accuracy'])\n",
        "history = model.fit(X_normalized, y_one_hot, batch_size=128, epochs=2, validation_split=0.2, verbose=2)\n",
        "assert(history.history['val_accuracy'][-1] > 0.91), \"The validation accuracy is: %.3f.  It should be greater than 0.91\" % history.history['val_accuracy'][-1]\n",
        "print('Tests passed.')"
      ],
      "execution_count": 31,
      "outputs": [
        {
          "output_type": "stream",
          "text": [
            "Train on 31367 samples, validate on 7842 samples\n",
            "Epoch 1/2\n",
            " - 23s - loss: 1.6054 - accuracy: 0.5775 - val_loss: 0.7446 - val_accuracy: 0.7913\n",
            "Epoch 2/2\n",
            " - 23s - loss: 0.5200 - accuracy: 0.8651 - val_loss: 0.3560 - val_accuracy: 0.9129\n",
            "Tests passed.\n"
          ],
          "name": "stdout"
        }
      ]
    },
    {
      "cell_type": "markdown",
      "metadata": {
        "id": "MNArrKjS0voJ",
        "colab_type": "text"
      },
      "source": [
        "## Optimization\n",
        "Congratulations! You've built a neural network with convolutions, pooling, dropout, and fully-connected layers, all in just a few lines of code.\n",
        "\n",
        "Have fun with the model and see how well you can do! Add more layers, or regularization, or different padding, or batches, or more training epochs.\n",
        "\n",
        "What is the best validation accuracy you can achieve?"
      ]
    },
    {
      "cell_type": "code",
      "metadata": {
        "id": "wTuz9Q0s0voK",
        "colab_type": "code",
        "colab": {
          "base_uri": "https://localhost:8080/",
          "height": 204
        },
        "outputId": "2c85066a-a72a-420d-cd9d-7bcd6f21effa"
      },
      "source": [
        "# TODO: Build a model\n",
        "from keras.models import Sequential\n",
        "from keras.layers.core import Dense, Flatten , Activation, Dropout\n",
        "from keras.layers.convolutional import Conv2D, MaxPooling2D\n",
        "model = Sequential()\n",
        "# TODO: Build a Multi-layer feedforward neural network with Keras here.\n",
        "# 1st Layer - Add a Conv with 32 filters and input 32x32x3\n",
        "model.add(Conv2D(32,(3,3),padding='valid',activation='relu',input_shape=(32,32,3)))\n",
        "\n",
        "# 2nd Layer - Add a MaxPooling layer with 2x2 kernel size\n",
        "model.add(MaxPooling2D((2,2)))\n",
        "\n",
        "# 3rd Layer - Add a Dropout\n",
        "model.add(Dropout(0.5))\n",
        "\n",
        "# 4th Layer - Add a activation layer\n",
        "model.add(Activation('relu'))\n",
        "\n",
        "model.add(Conv2D(16,(3,3),padding='valid',activation='relu'))\n",
        "model.add(MaxPooling2D((2,2)))\n",
        "\n",
        "model.add(Dropout(0.25))\n",
        "# 5th Layer - Flatten output from previous layer\n",
        "model.add(Flatten())\n",
        "\n",
        "# 6th Layer - Add a fully connected layer with output = 128\n",
        "model.add(Dense(128))\n",
        "model.add(Dropout(0.5))\n",
        "# 7th Layer - Add a ReLU activation layer\n",
        "model.add(Activation('relu'))\n",
        "\n",
        "# 8th Layer - Add a fully connected layer with output = 43\n",
        "model.add(Dense(43))\n",
        "\n",
        "# 9th Layer - Add a softmax Activiation layer\n",
        "model.add(Activation('softmax'))\n",
        "# TODO: Compile and train the model\n",
        "\n",
        "model.compile('adam', 'categorical_crossentropy', ['accuracy'])\n",
        "history = model.fit(X_normalized, y_one_hot, batch_size=128, epochs=5, validation_split=0.2, verbose=2)"
      ],
      "execution_count": 33,
      "outputs": [
        {
          "output_type": "stream",
          "text": [
            "Train on 31367 samples, validate on 7842 samples\n",
            "Epoch 1/5\n",
            " - 28s - loss: 2.8320 - accuracy: 0.2338 - val_loss: 1.7709 - val_accuracy: 0.5194\n",
            "Epoch 2/5\n",
            " - 28s - loss: 1.5468 - accuracy: 0.5245 - val_loss: 0.8559 - val_accuracy: 0.7911\n",
            "Epoch 3/5\n",
            " - 28s - loss: 1.0365 - accuracy: 0.6752 - val_loss: 0.5269 - val_accuracy: 0.8910\n",
            "Epoch 4/5\n",
            " - 28s - loss: 0.8040 - accuracy: 0.7423 - val_loss: 0.3702 - val_accuracy: 0.9269\n",
            "Epoch 5/5\n",
            " - 28s - loss: 0.6744 - accuracy: 0.7848 - val_loss: 0.3227 - val_accuracy: 0.9430\n"
          ],
          "name": "stdout"
        }
      ]
    },
    {
      "cell_type": "markdown",
      "metadata": {
        "id": "MyK8-8tB0voM",
        "colab_type": "text"
      },
      "source": [
        "**Best Validation Accuracy:** (fill in here)"
      ]
    },
    {
      "cell_type": "markdown",
      "metadata": {
        "id": "7RMQ-Jpl0voM",
        "colab_type": "text"
      },
      "source": [
        "## Testing\n",
        "Once you've picked out your best model, it's time to test it.\n",
        "\n",
        "Load up the test data and use the [`evaluate()` method](https://keras.io/models/model/#evaluate) to see how well it does.\n",
        "\n",
        "Hint 1: The `evaluate()` method should return an array of numbers. Use the [`metrics_names`](https://keras.io/models/model/) property to get the labels."
      ]
    },
    {
      "cell_type": "code",
      "metadata": {
        "id": "j1SEgG350voN",
        "colab_type": "code",
        "colab": {
          "base_uri": "https://localhost:8080/",
          "height": 68
        },
        "outputId": "e953f493-6bf5-4b4f-9b54-890e5c83fc79"
      },
      "source": [
        "# TODO: Load test data\n",
        "with open('test.p', 'rb') as f:\n",
        "    data = pickle.load(f)\n",
        "\n",
        "# TODO: Load the feature data to the variable X_train\n",
        "    X_test = data['features']\n",
        "# TODO: Load the label data to the variable y_train\n",
        "    y_test = data['labels']\n",
        "\n",
        "# TODO: Preprocess data & one-hot encode the labels\n",
        "X_test_normalized = np.array([normalize(img) for img in X_test])\n",
        "y_test_hot = label_binarizer.fit_transform(y_test)\n",
        "# TODO: Evaluate model on test data\n",
        "metrics = model.evaluate(X_test_normalized,y_test_hot)\n",
        "for metric_i in range(len(model.metrics_names)):\n",
        "    metric_name = model.metrics_names[metric_i]\n",
        "    metric_value = metrics[metric_i]\n",
        "    print('{}: {}'.format(metric_name, metric_value))"
      ],
      "execution_count": 36,
      "outputs": [
        {
          "output_type": "stream",
          "text": [
            "12630/12630 [==============================] - 3s 277us/step\n",
            "loss: 0.4737065553759547\n",
            "accuracy: 0.8907363414764404\n"
          ],
          "name": "stdout"
        }
      ]
    },
    {
      "cell_type": "markdown",
      "metadata": {
        "id": "O6f1BhOS0voQ",
        "colab_type": "text"
      },
      "source": [
        "**Test Accuracy:** \n",
        "\n",
        "loss: 0.4737065553759547\n",
        "\n",
        "accuracy: 0.8907363414764404"
      ]
    },
    {
      "cell_type": "markdown",
      "metadata": {
        "id": "V2mdnFQ_0voQ",
        "colab_type": "text"
      },
      "source": [
        "## Summary\n",
        "Keras is a great tool to use if you want to quickly build a neural network and evaluate performance."
      ]
    }
  ]
}